{
 "cells": [
  {
   "cell_type": "code",
   "execution_count": 1,
   "metadata": {},
   "outputs": [
    {
     "name": "stderr",
     "output_type": "stream",
     "text": [
      "Using TensorFlow backend.\n"
     ]
    }
   ],
   "source": [
    "import numpy as np\n",
    "from keras.models import load_model\n",
    "import cv2\n",
    "from keras.preprocessing import image\n",
    "from keras.preprocessing.image import img_to_array\n",
    "from time import sleep"
   ]
  },
  {
   "cell_type": "code",
   "execution_count": 2,
   "metadata": {},
   "outputs": [],
   "source": [
    "#Loading data and clasifier model\n",
    "\n",
    "face_classifier = cv2.CascadeClassifier('D:\\\\Deep learning dataset\\\\haarcascade_frontalface_default.xml')\n",
    "classifier = load_model('Facial_Expression_Recognition.hdf5')\n",
    "\n",
    "#Labels for prediction\n",
    "class_labels = [\"Angry\", \"Happy\", \"Neutral\", \"Sad\", \"Surprise\"]\n",
    "\n",
    "#video streaming\n",
    "cap = cv2.VideoCapture(0)\n",
    "\n",
    "while True:\n",
    "    #Readig the video into frame\n",
    "    ret, frame = cap.read()\n",
    "    \n",
    "    gray = cv2.cvtColor(frame,cv2.COLOR_BGR2GRAY)\n",
    "    \n",
    "    faces = face_classifier.detectMultiScale(gray,scaleFactor=  1.3, minNeighbors = 5,flags=cv2.CASCADE_SCALE_IMAGE)\n",
    "       \n",
    "    for (x,y,w,h) in faces:\n",
    "        #Drawing Rectangle on face\n",
    "        cv2.rectangle(gray, (x,y),(x+w, y+h),(255,0,0),2)\n",
    "        \n",
    "        #Extracting ROI of the face from the grayscale image\n",
    "        roi_gray = gray[y:y+h, x:x+w]\n",
    "        roi_gray = cv2.resize(roi_gray, (48,48))\n",
    "    \n",
    "        if np.sum(roi_gray)!= 0: #If there is atleast one face in frame\n",
    "            roi = roi_gray.astype('float')/255\n",
    "            roi = img_to_array(roi)\n",
    "            roi = np.expand_dims(roi,axis =0)        \n",
    "        \n",
    "            #Predicting the faceial expression\n",
    "            pred = classifier.predict(roi)[0]\n",
    "            label = class_labels[pred.argmax()]\n",
    "            #Getting position of label\n",
    "            label_position = (x,y)\n",
    "            \n",
    "            #putting text on face rectangle drawn above\n",
    "            cv2.putText(gray, label, label_position,cv2.FONT_HERSHEY_SIMPLEX, 2,(0,255,255), 3)\n",
    "    \n",
    "        else:\n",
    "        \n",
    "            cv2.putText(gray, \"no face\", (20,60),cv2.FONT_HERSHEY_SIMPLEX, 2, (255,255,0), 3)\n",
    "        \n",
    "        cv2.imshow(\"Emotion\", gray) \n",
    "   \n",
    "           \n",
    "    if cv2.waitKey(1) & 0xFF == ord('q'):\n",
    "        break\n",
    "\n",
    "cap.release()\n",
    "cv2.destroyAllWindows()"
   ]
  },
  {
   "cell_type": "code",
   "execution_count": null,
   "metadata": {},
   "outputs": [],
   "source": []
  }
 ],
 "metadata": {
  "kernelspec": {
   "display_name": "Python 3",
   "language": "python",
   "name": "python3"
  },
  "language_info": {
   "codemirror_mode": {
    "name": "ipython",
    "version": 3
   },
   "file_extension": ".py",
   "mimetype": "text/x-python",
   "name": "python",
   "nbconvert_exporter": "python",
   "pygments_lexer": "ipython3",
   "version": "3.7.6"
  }
 },
 "nbformat": 4,
 "nbformat_minor": 4
}
